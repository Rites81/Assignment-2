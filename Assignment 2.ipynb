{
 "cells": [
  {
   "cell_type": "markdown",
   "id": "4aa3d82c",
   "metadata": {},
   "source": [
    "# Write a program based on condional statement"
   ]
  },
  {
   "cell_type": "code",
   "execution_count": null,
   "id": "6f472177",
   "metadata": {},
   "outputs": [],
   "source": [
    "marks1=float(input(\"Enter marks in English::\"))\n",
    "marks2=float(input(\"Enter marks in Maths::\"))\n",
    "marks3=float(input(\"Enter marks in Hindi::\"))\n",
    "total=marks1+marks2+marks3\n",
    "per=total/3\n",
    "print(\"Total\" , total)\n",
    "print(\"average\",  average)\n",
    "if marks1>33 and marks2>33 and marks>33:\n",
    "    print(\"Result  : pass\")\n",
    "    if per>=90 and per<=100:\n",
    "        print(\"A Grade\")\n",
    "    elif per>=80 and per<=90:\n",
    "            print(\"B grade\");\n",
    "        elif per>=60 and per<=70:\n",
    "            print(\"C grade\");\n",
    "            else:\n",
    "                print(\"Grade D\")\n",
    "                        print(\"Grade : D\")\n",
    "else:\n",
    "    print(\"Result  : Fail\")\n",
    "    print(\"Grade   : No Grade\")"
   ]
  },
  {
   "cell_type": "code",
   "execution_count": 1,
   "id": "4e5574f6",
   "metadata": {},
   "outputs": [
    {
     "name": "stdout",
     "output_type": "stream",
     "text": [
      "Enter Mark-1  : 34\n",
      "Enter Mark-2  : 45\n",
      "Enter Mark-3  : 56\n",
      "Total  :  135\n",
      "Average  :  45.0\n",
      "Result  : Fail\n",
      "Grade   : No Grade\n"
     ]
    }
   ],
   "source": [
    "m1 = int(input(\"Enter Mark-1  : \"))\n",
    "m2 = int(input(\"Enter Mark-2  : \"))\n",
    "m3 = int(input(\"Enter Mark-3  : \"))\n",
    "total = m1 + m2 + m3\n",
    "average = total / 3.0\n",
    "print(\"Total  : \", total)\n",
    "print(\"Average  : \", average)\n",
    "if m1 >= 35 and m2 >= 35 and m3 >= 35:\n",
    "    print(\"Result  : Pass\")\n",
    "    if average >= 90 and average <= 100:\n",
    "        print(\"Grade : A\")\n",
    "    elif average >= 80 and average <= 89:\n",
    "        print(\"Grade : B\")\n",
    "    elif average >= 70 and average <= 79:\n",
    "        print(\"Grade : C\")\n",
    "    else:\n",
    "        print(\"Grade : D\")\n",
    "else:\n",
    "    print(\"Result  : Fail\")\n",
    "    print(\"Grade   : No Grade\")"
   ]
  },
  {
   "cell_type": "code",
   "execution_count": 8,
   "id": "2537eaef",
   "metadata": {},
   "outputs": [
    {
     "name": "stdout",
     "output_type": "stream",
     "text": [
      "Enter a bike Price45667\n",
      "price of bike_price is 9133.4\n"
     ]
    }
   ],
   "source": [
    "cost_price=float(input(\"Enter a bike Price::\"))\n",
    "if cost_price>100000:\n",
    " print(f\"price of bike_price is {cost_price*1/15}\")\n",
    "elif cost_price>50000 and cost_price<=100000:\n",
    " print(f\"price of bike-price is {cost_price*0.9}\")\n",
    "elif cost_price<=50000:\n",
    " print(f\"price of bike_price is {cost_price*1/5}\")\n",
    "else:\n",
    "    print(\"Bike Price is under 50000\")\n"
   ]
  },
  {
   "cell_type": "code",
   "execution_count": 17,
   "id": "b666ed5b",
   "metadata": {},
   "outputs": [
    {
     "name": "stdout",
     "output_type": "stream",
     "text": [
      "Enter your favorate city::jaipur\n",
      "In jaipur beautiful monument is Jai Mahel.\n"
     ]
    }
   ],
   "source": [
    "city=input(\"Enter your favorate city::\")\n",
    "if city.title()==\"agra\":\n",
    " print(\"In Agra beautiful monument is Taj Mahel.\")\n",
    "elif city.lower()==\"delhi\":\n",
    " print(\"In Delhi beautiful monuments  is Red Fort.\")\n",
    "elif city.lower()==\"jaipur\":\n",
    " print(\"In jaipur beautiful monument is Jai Mahel.\")\n",
    "else:\n",
    " print(\"Not set in database.\")\n",
    "    "
   ]
  },
  {
   "cell_type": "markdown",
   "id": "c955e9ad",
   "metadata": {},
   "source": [
    "# While loop - It is used for execute a set of statement as a condition as long it is while loop is use for stop the  statement. with while we use break and continue statement for some logical coding.\n",
    "Example::\n",
    "i=1\n",
    "while(i<=6):\n",
    "    print(i)\n",
    "    i+=1"
   ]
  },
  {
   "cell_type": "code",
   "execution_count": null,
   "id": "8b314713",
   "metadata": {},
   "outputs": [],
   "source": [
    "i=1\n",
    "while i<=5:\n",
    "    j=1\n",
    "    while j<=i:\n",
    "        print(j,end=\" \")\n",
    "        j=j+1\n",
    "    print(\"\")\n",
    "    i=i+1"
   ]
  },
  {
   "cell_type": "code",
   "execution_count": null,
   "id": "5c8598cf",
   "metadata": {},
   "outputs": [],
   "source": [
    "i = 0\n",
    " while i < 6:\n",
    "  i += 1\n",
    "  print(i)"
   ]
  },
  {
   "cell_type": "code",
   "execution_count": null,
   "id": "83c44e01",
   "metadata": {},
   "outputs": [],
   "source": [
    "for i in range(1,11):\n",
    "  for j in range(1,11):\n",
    "    print(i*j, end=' ')\n",
    "    print()"
   ]
  },
  {
   "cell_type": "code",
   "execution_count": null,
   "id": "499b2222",
   "metadata": {},
   "outputs": [],
   "source": [
    "rows=5\n",
    "for i in range(1,rows+1):\n",
    "    for j in range(1,i+1):\n",
    "        print(\"*\",end=\" \")\n",
    "        print(' ')"
   ]
  },
  {
   "cell_type": "markdown",
   "id": "53bb4f19",
   "metadata": {},
   "source": [
    "# Reverse a loop"
   ]
  },
  {
   "cell_type": "code",
   "execution_count": 25,
   "id": "70b50c68",
   "metadata": {},
   "outputs": [
    {
     "name": "stdout",
     "output_type": "stream",
     "text": [
      "10\n",
      "9\n",
      "8\n",
      "7\n",
      "6\n",
      "5\n",
      "4\n",
      "3\n",
      "2\n",
      "1\n"
     ]
    }
   ],
   "source": [
    "i=10\n",
    "while i>=1:\n",
    "    print(i)\n",
    "    i=i-1"
   ]
  },
  {
   "cell_type": "markdown",
   "id": "44ec1900",
   "metadata": {},
   "source": [
    "# while loop from 1 to 10\n"
   ]
  },
  {
   "cell_type": "code",
   "execution_count": 26,
   "id": "c47c4ad9",
   "metadata": {},
   "outputs": [
    {
     "name": "stdout",
     "output_type": "stream",
     "text": [
      "1\n",
      "2\n",
      "3\n",
      "4\n",
      "5\n",
      "6\n",
      "7\n",
      "8\n",
      "9\n",
      "10\n"
     ]
    }
   ],
   "source": [
    "i=1\n",
    "while(i<=10):\n",
    "    print(i)\n",
    "    i+=1"
   ]
  },
  {
   "cell_type": "code",
   "execution_count": null,
   "id": "99f18eeb",
   "metadata": {},
   "outputs": [],
   "source": []
  }
 ],
 "metadata": {
  "kernelspec": {
   "display_name": "Python 3 (ipykernel)",
   "language": "python",
   "name": "python3"
  },
  "language_info": {
   "codemirror_mode": {
    "name": "ipython",
    "version": 3
   },
   "file_extension": ".py",
   "mimetype": "text/x-python",
   "name": "python",
   "nbconvert_exporter": "python",
   "pygments_lexer": "ipython3",
   "version": "3.10.5"
  }
 },
 "nbformat": 4,
 "nbformat_minor": 5
}
